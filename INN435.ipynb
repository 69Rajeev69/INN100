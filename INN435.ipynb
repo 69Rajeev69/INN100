{
  "nbformat": 4,
  "nbformat_minor": 0,
  "metadata": {
    "colab": {
      "provenance": [],
      "include_colab_link": true
    },
    "kernelspec": {
      "name": "python3",
      "display_name": "Python 3"
    },
    "language_info": {
      "name": "python"
    }
  },
  "cells": [
    {
      "cell_type": "markdown",
      "metadata": {
        "id": "view-in-github",
        "colab_type": "text"
      },
      "source": [
        "<a href=\"https://colab.research.google.com/github/69Rajeev69/INN100/blob/main/INN435.ipynb\" target=\"_parent\"><img src=\"https://colab.research.google.com/assets/colab-badge.svg\" alt=\"Open In Colab\"/></a>"
      ]
    },
    {
      "cell_type": "code",
      "execution_count": null,
      "metadata": {
        "id": "Xoib_YJCVIVg"
      },
      "outputs": [],
      "source": [
        "import numpy as np\n",
        "import pandas as pd\n",
        "import tensorflow as tf\n",
        "from tensorflow.keras.models import Sequential\n",
        "from tensorflow.keras.layers import Dense\n",
        "from sklearn.model_selection import train_test_split\n",
        "from sklearn.metrics import accuracy_score\n"
      ]
    },
    {
      "cell_type": "code",
      "source": [
        "pip install tensorflow"
      ],
      "metadata": {
        "colab": {
          "base_uri": "https://localhost:8080/"
        },
        "id": "2kCJ--TQVUDs",
        "outputId": "4436da81-bafd-4453-95bd-2215de6d7eaa"
      },
      "execution_count": null,
      "outputs": [
        {
          "output_type": "stream",
          "name": "stdout",
          "text": [
            "Requirement already satisfied: tensorflow in /usr/local/lib/python3.10/dist-packages (2.15.0)\n",
            "Requirement already satisfied: absl-py>=1.0.0 in /usr/local/lib/python3.10/dist-packages (from tensorflow) (1.4.0)\n",
            "Requirement already satisfied: astunparse>=1.6.0 in /usr/local/lib/python3.10/dist-packages (from tensorflow) (1.6.3)\n",
            "Requirement already satisfied: flatbuffers>=23.5.26 in /usr/local/lib/python3.10/dist-packages (from tensorflow) (23.5.26)\n",
            "Requirement already satisfied: gast!=0.5.0,!=0.5.1,!=0.5.2,>=0.2.1 in /usr/local/lib/python3.10/dist-packages (from tensorflow) (0.5.4)\n",
            "Requirement already satisfied: google-pasta>=0.1.1 in /usr/local/lib/python3.10/dist-packages (from tensorflow) (0.2.0)\n",
            "Requirement already satisfied: h5py>=2.9.0 in /usr/local/lib/python3.10/dist-packages (from tensorflow) (3.9.0)\n",
            "Requirement already satisfied: libclang>=13.0.0 in /usr/local/lib/python3.10/dist-packages (from tensorflow) (16.0.6)\n",
            "Requirement already satisfied: ml-dtypes~=0.2.0 in /usr/local/lib/python3.10/dist-packages (from tensorflow) (0.2.0)\n",
            "Requirement already satisfied: numpy<2.0.0,>=1.23.5 in /usr/local/lib/python3.10/dist-packages (from tensorflow) (1.23.5)\n",
            "Requirement already satisfied: opt-einsum>=2.3.2 in /usr/local/lib/python3.10/dist-packages (from tensorflow) (3.3.0)\n",
            "Requirement already satisfied: packaging in /usr/local/lib/python3.10/dist-packages (from tensorflow) (23.2)\n",
            "Requirement already satisfied: protobuf!=4.21.0,!=4.21.1,!=4.21.2,!=4.21.3,!=4.21.4,!=4.21.5,<5.0.0dev,>=3.20.3 in /usr/local/lib/python3.10/dist-packages (from tensorflow) (3.20.3)\n",
            "Requirement already satisfied: setuptools in /usr/local/lib/python3.10/dist-packages (from tensorflow) (67.7.2)\n",
            "Requirement already satisfied: six>=1.12.0 in /usr/local/lib/python3.10/dist-packages (from tensorflow) (1.16.0)\n",
            "Requirement already satisfied: termcolor>=1.1.0 in /usr/local/lib/python3.10/dist-packages (from tensorflow) (2.4.0)\n",
            "Requirement already satisfied: typing-extensions>=3.6.6 in /usr/local/lib/python3.10/dist-packages (from tensorflow) (4.5.0)\n",
            "Requirement already satisfied: wrapt<1.15,>=1.11.0 in /usr/local/lib/python3.10/dist-packages (from tensorflow) (1.14.1)\n",
            "Requirement already satisfied: tensorflow-io-gcs-filesystem>=0.23.1 in /usr/local/lib/python3.10/dist-packages (from tensorflow) (0.35.0)\n",
            "Requirement already satisfied: grpcio<2.0,>=1.24.3 in /usr/local/lib/python3.10/dist-packages (from tensorflow) (1.60.0)\n",
            "Requirement already satisfied: tensorboard<2.16,>=2.15 in /usr/local/lib/python3.10/dist-packages (from tensorflow) (2.15.1)\n",
            "Requirement already satisfied: tensorflow-estimator<2.16,>=2.15.0 in /usr/local/lib/python3.10/dist-packages (from tensorflow) (2.15.0)\n",
            "Requirement already satisfied: keras<2.16,>=2.15.0 in /usr/local/lib/python3.10/dist-packages (from tensorflow) (2.15.0)\n",
            "Requirement already satisfied: wheel<1.0,>=0.23.0 in /usr/local/lib/python3.10/dist-packages (from astunparse>=1.6.0->tensorflow) (0.42.0)\n",
            "Requirement already satisfied: google-auth<3,>=1.6.3 in /usr/local/lib/python3.10/dist-packages (from tensorboard<2.16,>=2.15->tensorflow) (2.17.3)\n",
            "Requirement already satisfied: google-auth-oauthlib<2,>=0.5 in /usr/local/lib/python3.10/dist-packages (from tensorboard<2.16,>=2.15->tensorflow) (1.2.0)\n",
            "Requirement already satisfied: markdown>=2.6.8 in /usr/local/lib/python3.10/dist-packages (from tensorboard<2.16,>=2.15->tensorflow) (3.5.1)\n",
            "Requirement already satisfied: requests<3,>=2.21.0 in /usr/local/lib/python3.10/dist-packages (from tensorboard<2.16,>=2.15->tensorflow) (2.31.0)\n",
            "Requirement already satisfied: tensorboard-data-server<0.8.0,>=0.7.0 in /usr/local/lib/python3.10/dist-packages (from tensorboard<2.16,>=2.15->tensorflow) (0.7.2)\n",
            "Requirement already satisfied: werkzeug>=1.0.1 in /usr/local/lib/python3.10/dist-packages (from tensorboard<2.16,>=2.15->tensorflow) (3.0.1)\n",
            "Requirement already satisfied: cachetools<6.0,>=2.0.0 in /usr/local/lib/python3.10/dist-packages (from google-auth<3,>=1.6.3->tensorboard<2.16,>=2.15->tensorflow) (5.3.2)\n",
            "Requirement already satisfied: pyasn1-modules>=0.2.1 in /usr/local/lib/python3.10/dist-packages (from google-auth<3,>=1.6.3->tensorboard<2.16,>=2.15->tensorflow) (0.3.0)\n",
            "Requirement already satisfied: rsa<5,>=3.1.4 in /usr/local/lib/python3.10/dist-packages (from google-auth<3,>=1.6.3->tensorboard<2.16,>=2.15->tensorflow) (4.9)\n",
            "Requirement already satisfied: requests-oauthlib>=0.7.0 in /usr/local/lib/python3.10/dist-packages (from google-auth-oauthlib<2,>=0.5->tensorboard<2.16,>=2.15->tensorflow) (1.3.1)\n",
            "Requirement already satisfied: charset-normalizer<4,>=2 in /usr/local/lib/python3.10/dist-packages (from requests<3,>=2.21.0->tensorboard<2.16,>=2.15->tensorflow) (3.3.2)\n",
            "Requirement already satisfied: idna<4,>=2.5 in /usr/local/lib/python3.10/dist-packages (from requests<3,>=2.21.0->tensorboard<2.16,>=2.15->tensorflow) (3.6)\n",
            "Requirement already satisfied: urllib3<3,>=1.21.1 in /usr/local/lib/python3.10/dist-packages (from requests<3,>=2.21.0->tensorboard<2.16,>=2.15->tensorflow) (2.0.7)\n",
            "Requirement already satisfied: certifi>=2017.4.17 in /usr/local/lib/python3.10/dist-packages (from requests<3,>=2.21.0->tensorboard<2.16,>=2.15->tensorflow) (2023.11.17)\n",
            "Requirement already satisfied: MarkupSafe>=2.1.1 in /usr/local/lib/python3.10/dist-packages (from werkzeug>=1.0.1->tensorboard<2.16,>=2.15->tensorflow) (2.1.3)\n",
            "Requirement already satisfied: pyasn1<0.6.0,>=0.4.6 in /usr/local/lib/python3.10/dist-packages (from pyasn1-modules>=0.2.1->google-auth<3,>=1.6.3->tensorboard<2.16,>=2.15->tensorflow) (0.5.1)\n",
            "Requirement already satisfied: oauthlib>=3.0.0 in /usr/local/lib/python3.10/dist-packages (from requests-oauthlib>=0.7.0->google-auth-oauthlib<2,>=0.5->tensorboard<2.16,>=2.15->tensorflow) (3.2.2)\n"
          ]
        }
      ]
    },
    {
      "cell_type": "code",
      "source": [
        "df = pd.read_csv(\"breast-cancer.csv\")\n",
        "df['diagnosis'] = df['diagnosis'].map({'M': 1, 'B': 0})"
      ],
      "metadata": {
        "id": "TPqNGq0zVO6D"
      },
      "execution_count": null,
      "outputs": []
    },
    {
      "cell_type": "code",
      "source": [
        "x, y = df.drop(['diagnosis', 'id'], axis=1), df['diagnosis']\n",
        "X_train, X_test, y_train, y_test = train_test_split(x, y, test_size=0.2, random_state=42)"
      ],
      "metadata": {
        "id": "xb4hEXSvVYx6"
      },
      "execution_count": null,
      "outputs": []
    },
    {
      "cell_type": "code",
      "source": [
        "model = Sequential([\n",
        "    Dense(64, activation='relu', input_dim=X_train.shape[1]),\n",
        "    Dense(16, activation='relu'),\n",
        "    Dense(1, activation='sigmoid')\n",
        "])\n",
        "model.compile(optimizer='adam', loss='binary_crossentropy', metrics=['accuracy'])\n",
        "\n",
        "model.fit(X_train, y_train, epochs=25, batch_size=64, validation_split=0.2)\n",
        "\n",
        "y_pred_binary = np.round(model.predict(X_test)).flatten()\n",
        "accuracy = accuracy_score(y_test, y_pred_binary)\n",
        "print(f'Test Accuracy: {accuracy}')"
      ],
      "metadata": {
        "id": "yN05bU4PVcj7",
        "outputId": "44860b11-46ea-4ff6-e872-1b60e007d012",
        "colab": {
          "base_uri": "https://localhost:8080/"
        }
      },
      "execution_count": null,
      "outputs": [
        {
          "output_type": "stream",
          "name": "stdout",
          "text": [
            "Epoch 1/25\n",
            "6/6 [==============================] - 2s 74ms/step - loss: 110.4092 - accuracy: 0.6264 - val_loss: 64.2216 - val_accuracy: 0.6374\n",
            "Epoch 2/25\n",
            "6/6 [==============================] - 0s 19ms/step - loss: 36.1491 - accuracy: 0.5165 - val_loss: 17.7866 - val_accuracy: 0.3516\n",
            "Epoch 3/25\n",
            "6/6 [==============================] - 0s 15ms/step - loss: 24.6723 - accuracy: 0.3709 - val_loss: 28.3976 - val_accuracy: 0.3626\n",
            "Epoch 4/25\n",
            "6/6 [==============================] - 0s 13ms/step - loss: 20.8452 - accuracy: 0.3709 - val_loss: 8.1498 - val_accuracy: 0.2418\n",
            "Epoch 5/25\n",
            "6/6 [==============================] - 0s 15ms/step - loss: 11.2282 - accuracy: 0.4258 - val_loss: 10.2797 - val_accuracy: 0.6374\n",
            "Epoch 6/25\n",
            "6/6 [==============================] - 0s 15ms/step - loss: 5.9961 - accuracy: 0.4148 - val_loss: 6.2470 - val_accuracy: 0.3626\n",
            "Epoch 7/25\n",
            "6/6 [==============================] - 0s 15ms/step - loss: 3.8848 - accuracy: 0.4258 - val_loss: 2.2783 - val_accuracy: 0.6154\n",
            "Epoch 8/25\n",
            "6/6 [==============================] - 0s 19ms/step - loss: 1.4015 - accuracy: 0.5467 - val_loss: 0.7030 - val_accuracy: 0.8022\n",
            "Epoch 9/25\n",
            "6/6 [==============================] - 0s 16ms/step - loss: 0.5566 - accuracy: 0.7775 - val_loss: 0.7762 - val_accuracy: 0.7253\n",
            "Epoch 10/25\n",
            "6/6 [==============================] - 0s 16ms/step - loss: 0.4397 - accuracy: 0.8159 - val_loss: 0.8192 - val_accuracy: 0.8352\n",
            "Epoch 11/25\n",
            "6/6 [==============================] - 0s 13ms/step - loss: 0.2962 - accuracy: 0.8901 - val_loss: 0.4611 - val_accuracy: 0.8571\n",
            "Epoch 12/25\n",
            "6/6 [==============================] - 0s 15ms/step - loss: 0.3191 - accuracy: 0.8984 - val_loss: 0.7273 - val_accuracy: 0.8462\n",
            "Epoch 13/25\n",
            "6/6 [==============================] - 0s 16ms/step - loss: 0.3092 - accuracy: 0.9038 - val_loss: 0.4064 - val_accuracy: 0.8681\n",
            "Epoch 14/25\n",
            "6/6 [==============================] - 0s 33ms/step - loss: 0.2501 - accuracy: 0.9038 - val_loss: 0.5573 - val_accuracy: 0.8681\n",
            "Epoch 15/25\n",
            "6/6 [==============================] - 0s 36ms/step - loss: 0.2659 - accuracy: 0.9011 - val_loss: 0.3912 - val_accuracy: 0.8901\n",
            "Epoch 16/25\n",
            "6/6 [==============================] - 0s 32ms/step - loss: 0.2316 - accuracy: 0.9066 - val_loss: 0.5433 - val_accuracy: 0.8681\n",
            "Epoch 17/25\n",
            "6/6 [==============================] - 0s 25ms/step - loss: 0.2539 - accuracy: 0.9093 - val_loss: 0.3746 - val_accuracy: 0.8681\n",
            "Epoch 18/25\n",
            "6/6 [==============================] - 0s 16ms/step - loss: 0.2625 - accuracy: 0.9066 - val_loss: 0.4445 - val_accuracy: 0.8901\n",
            "Epoch 19/25\n",
            "6/6 [==============================] - 0s 21ms/step - loss: 0.2346 - accuracy: 0.9038 - val_loss: 0.4090 - val_accuracy: 0.8901\n",
            "Epoch 20/25\n",
            "6/6 [==============================] - 0s 17ms/step - loss: 0.2361 - accuracy: 0.9011 - val_loss: 0.3767 - val_accuracy: 0.8901\n",
            "Epoch 21/25\n",
            "6/6 [==============================] - 0s 18ms/step - loss: 0.2302 - accuracy: 0.9093 - val_loss: 0.3860 - val_accuracy: 0.8901\n",
            "Epoch 22/25\n",
            "6/6 [==============================] - 0s 18ms/step - loss: 0.2310 - accuracy: 0.9066 - val_loss: 0.4512 - val_accuracy: 0.8791\n",
            "Epoch 23/25\n",
            "6/6 [==============================] - 0s 19ms/step - loss: 0.2387 - accuracy: 0.9066 - val_loss: 0.3348 - val_accuracy: 0.9011\n",
            "Epoch 24/25\n",
            "6/6 [==============================] - 0s 26ms/step - loss: 0.2406 - accuracy: 0.9148 - val_loss: 0.4074 - val_accuracy: 0.8791\n",
            "Epoch 25/25\n",
            "6/6 [==============================] - 0s 20ms/step - loss: 0.2168 - accuracy: 0.9203 - val_loss: 0.3511 - val_accuracy: 0.8901\n",
            "4/4 [==============================] - 0s 9ms/step\n",
            "Test Accuracy: 0.9473684210526315\n"
          ]
        }
      ]
    },
    {
      "cell_type": "code",
      "source": [
        "import numpy as np\n",
        "import tensorflow as tf\n",
        "from sklearn.model_selection import train_test_split\n",
        "from sklearn.metrics import accuracy_score\n",
        "\n",
        "from sklearn.datasets import make_classification\n",
        "X, y = make_classification(n_samples=1000, n_features=20, n_classes=2, random_state=32)\n",
        "\n",
        "\n",
        "X_train, X_test, y_train, y_test = train_test_split(X, y, test_size=0.2, random_state=32)\n",
        "\n",
        "model = tf.keras.Sequential([\n",
        "    tf.keras.layers.Dense(64, activation='relu', input_shape=(X_train.shape[1],)),\n",
        "    tf.keras.layers.Dense(32, activation='relu'),\n",
        "    tf.keras.layers.Dense(16,activation  = 'relu'),\n",
        "    tf.keras.layers.Dense(1, activation='sigmoid')\n",
        "])\n",
        "\n",
        "model.compile(optimizer='adam', loss='binary_crossentropy', metrics=['mae'])\n",
        "\n",
        "model.fit(X_train, y_train, epochs=10, batch_size=32, validation_split=0.25)\n",
        "\n",
        "y_pred = model.predict(X_test)\n",
        "y_pred = (y_pred > 0.5).astype(int)\n",
        "accuracy = accuracy_score(y_test, y_pred)\n",
        "print(f\"Accuracy: {accuracy * 100:.2f}%\")"
      ],
      "metadata": {
        "colab": {
          "base_uri": "https://localhost:8080/"
        },
        "id": "06YtmWdlYJAe",
        "outputId": "abcf6d6d-0e61-4e14-a5b3-ee939deff0ef"
      },
      "execution_count": 1,
      "outputs": [
        {
          "output_type": "stream",
          "name": "stdout",
          "text": [
            "Epoch 1/10\n",
            "19/19 [==============================] - 2s 33ms/step - loss: 0.6299 - mae: 0.4591 - val_loss: 0.5536 - val_mae: 0.4168\n",
            "Epoch 2/10\n",
            "19/19 [==============================] - 0s 11ms/step - loss: 0.4713 - mae: 0.3657 - val_loss: 0.3768 - val_mae: 0.2992\n",
            "Epoch 3/10\n",
            "19/19 [==============================] - 0s 11ms/step - loss: 0.2819 - mae: 0.2337 - val_loss: 0.1994 - val_mae: 0.1622\n",
            "Epoch 4/10\n",
            "19/19 [==============================] - 0s 8ms/step - loss: 0.1300 - mae: 0.1118 - val_loss: 0.1019 - val_mae: 0.0738\n",
            "Epoch 5/10\n",
            "19/19 [==============================] - 0s 10ms/step - loss: 0.0628 - mae: 0.0505 - val_loss: 0.0707 - val_mae: 0.0407\n",
            "Epoch 6/10\n",
            "19/19 [==============================] - 0s 9ms/step - loss: 0.0394 - mae: 0.0283 - val_loss: 0.0622 - val_mae: 0.0289\n",
            "Epoch 7/10\n",
            "19/19 [==============================] - 0s 9ms/step - loss: 0.0300 - mae: 0.0187 - val_loss: 0.0595 - val_mae: 0.0231\n",
            "Epoch 8/10\n",
            "19/19 [==============================] - 0s 8ms/step - loss: 0.0242 - mae: 0.0151 - val_loss: 0.0595 - val_mae: 0.0203\n",
            "Epoch 9/10\n",
            "19/19 [==============================] - 0s 11ms/step - loss: 0.0200 - mae: 0.0125 - val_loss: 0.0600 - val_mae: 0.0188\n",
            "Epoch 10/10\n",
            "19/19 [==============================] - 0s 11ms/step - loss: 0.0173 - mae: 0.0103 - val_loss: 0.0603 - val_mae: 0.0173\n",
            "7/7 [==============================] - 0s 3ms/step\n",
            "Accuracy: 99.00%\n"
          ]
        }
      ]
    },
    {
      "cell_type": "code",
      "source": [
        "import numpy as np\n",
        "import matplotlib.pyplot as plt"
      ],
      "metadata": {
        "id": "OPwyh-GzXlSd"
      },
      "execution_count": null,
      "outputs": []
    },
    {
      "cell_type": "code",
      "source": [
        "class Perceptron:\n",
        "    def __init__(self, input_size):\n",
        "        self.weights = np.random.rand(input_size + 1)\n",
        "        self.learning_rate = 0.1\n",
        "\n",
        "    def predict(self, inputs):\n",
        "        summation = np.dot(inputs, self.weights[1:]) + self.weights[0]\n",
        "        return 1 if summation > 0 else 0\n",
        "\n",
        "    def train(self, inputs, target):\n",
        "        prediction = self.predict(inputs)\n",
        "        error = target - prediction\n",
        "        self.weights[1:] += self.learning_rate * error * inputs\n",
        "        self.weights[0] += self.learning_rate * error"
      ],
      "metadata": {
        "id": "sIwoW-7IXoF1"
      },
      "execution_count": null,
      "outputs": []
    },
    {
      "cell_type": "code",
      "source": [
        "X_train = np.array([[0, 0], [0, 1], [1, 0], [1, 1]])\n",
        "y_train = np.array([0, 0, 0, 1])\n",
        "\n",
        "perceptron = Perceptron(input_size=len(X_train[0]))\n",
        "\n",
        "epochs = 100\n",
        "for epoch in range(epochs):\n",
        "    for inputs, target in zip(X_train, y_train):\n",
        "        perceptron.train(inputs, target)\n",
        "X_test = np.array([[0, 0], [0, 1], [1, 0], [1, 1]])\n",
        "for inputs in X_test:\n",
        "    prediction = perceptron.predict(inputs)\n",
        "    print(f\"Input: {inputs}, Prediction: {prediction}\")"
      ],
      "metadata": {
        "colab": {
          "base_uri": "https://localhost:8080/"
        },
        "id": "MO8ESt3xXr6Y",
        "outputId": "755d62c3-1d5a-4ad8-e1e1-9b6b87e578e8"
      },
      "execution_count": null,
      "outputs": [
        {
          "output_type": "stream",
          "name": "stdout",
          "text": [
            "Input: [0 0], Prediction: 0\n",
            "Input: [0 1], Prediction: 0\n",
            "Input: [1 0], Prediction: 0\n",
            "Input: [1 1], Prediction: 1\n"
          ]
        }
      ]
    },
    {
      "cell_type": "code",
      "source": [
        "import numpy as np\n",
        "\n",
        "class Perceptron:\n",
        "    def __init__(self, learning_rate=0.01, epochs=100):\n",
        "        self.learning_rate = learning_rate\n",
        "        self.epochs = epochs\n",
        "        self.weights = None\n",
        "        self.bias = None\n",
        "\n",
        "    def fit(self, X, y):\n",
        "        # Initialize weights and bias\n",
        "        self.weights = np.zeros(X.shape[1])\n",
        "        self.bias = 0.0\n",
        "\n",
        "        for epoch in range(self.epochs):\n",
        "            for i in range(X.shape[0]):\n",
        "                # Compute the weighted sum and apply the step function\n",
        "                prediction = self.predict(X[i])\n",
        "                error = y[i] - prediction\n",
        "\n",
        "                # Update weights and bias\n",
        "                self.weights += self.learning_rate * error * X[i]\n",
        "                self.bias += self.learning_rate * error\n",
        "\n",
        "    def predict(self, x):\n",
        "        # Compute the weighted sum\n",
        "        weighted_sum = np.dot(x, self.weights) + self.bias\n",
        "        # Apply the step function\n",
        "        return 1 if weighted_sum >= 0 else 0\n",
        "\n",
        "\n",
        "# Example usage:\n",
        "# Assuming you have X_train and y_train for training\n",
        "X_train = np.array([[2, 3], [1, 4], [3, 5], [4, 2]])\n",
        "y_train = np.array([0, 0, 1, 1])\n",
        "\n",
        "\n",
        "# Create and train the perceptron\n",
        "perceptron = Perceptron(learning_rate=0.01, epochs=100)\n",
        "perceptron.fit(X_train, y_train)\n",
        "\n",
        "# Assuming you have a new data point for prediction\n",
        "new_data_point = np.array([2, 4])\n",
        "prediction = perceptron.predict(new_data_point)\n",
        "\n",
        "print(f\"Prediction for {new_data_point}: {prediction}\")"
      ],
      "metadata": {
        "colab": {
          "base_uri": "https://localhost:8080/"
        },
        "id": "UNnV7v6tZvKK",
        "outputId": "271bc7a3-41ef-4c90-ee40-a9e158424fda"
      },
      "execution_count": 2,
      "outputs": [
        {
          "output_type": "stream",
          "name": "stdout",
          "text": [
            "Prediction for [2 4]: 0\n"
          ]
        }
      ]
    },
    {
      "cell_type": "code",
      "source": [
        "import numpy as np\n",
        "\n",
        "def sigmoid(x):\n",
        "    return 1 / (1 + np.exp(-x))\n",
        "\n",
        "np.random.seed(42)\n",
        "X_train = np.random.random((100, 10))\n",
        "y_train = np.random.randint(2, size=(100,))\n",
        "\n",
        "input_size, hidden_size, output_size = 10, 5, 1\n",
        "weights_input_hidden = np.random.rand(input_size, hidden_size)\n",
        "weights_hidden_output = np.random.rand(hidden_size, output_size)\n",
        "\n",
        "learning_rate, epochs = 0.01, 10\n",
        "\n",
        "for epoch in range(epochs):\n",
        "    hidden_output = sigmoid(np.dot(X_train, weights_input_hidden))\n",
        "    predicted_output = sigmoid(np.dot(hidden_output, weights_hidden_output))\n",
        "\n",
        "    output_error = y_train.reshape(-1, 1) - predicted_output\n",
        "    hidden_error = np.dot(output_error, weights_hidden_output.T)\n",
        "\n",
        "    weights_hidden_output += learning_rate * np.dot(\n",
        "        hidden_output.T, output_error * predicted_output * (1 - predicted_output)\n",
        "    )\n",
        "    weights_input_hidden += learning_rate * np.dot(\n",
        "        X_train.T, hidden_error * hidden_output * (1 - hidden_output)\n",
        "    )\n",
        "\n",
        "print(\"Final Predicted Output:\")\n",
        "print(predicted_output)"
      ],
      "metadata": {
        "colab": {
          "base_uri": "https://localhost:8080/"
        },
        "id": "b9YzmL5zX37f",
        "outputId": "ac333d16-5743-4ab7-e55b-8d9499a95e6a"
      },
      "execution_count": null,
      "outputs": [
        {
          "output_type": "stream",
          "name": "stdout",
          "text": [
            "Final Predicted Output:\n",
            "[[0.9266894 ]\n",
            " [0.91769429]\n",
            " [0.91773197]\n",
            " [0.91475066]\n",
            " [0.90401934]\n",
            " [0.93376047]\n",
            " [0.92328735]\n",
            " [0.91468101]\n",
            " [0.9337884 ]\n",
            " [0.91712404]\n",
            " [0.90622204]\n",
            " [0.93179784]\n",
            " [0.93092271]\n",
            " [0.91538474]\n",
            " [0.92183203]\n",
            " [0.9239876 ]\n",
            " [0.91987318]\n",
            " [0.92440235]\n",
            " [0.92849798]\n",
            " [0.93427885]\n",
            " [0.89677881]\n",
            " [0.9313483 ]\n",
            " [0.92688693]\n",
            " [0.92650888]\n",
            " [0.94457024]\n",
            " [0.92988248]\n",
            " [0.92932262]\n",
            " [0.94040686]\n",
            " [0.92314131]\n",
            " [0.9132106 ]\n",
            " [0.92298406]\n",
            " [0.89883008]\n",
            " [0.93206055]\n",
            " [0.91282751]\n",
            " [0.91610217]\n",
            " [0.93146803]\n",
            " [0.92569461]\n",
            " [0.89598535]\n",
            " [0.92484314]\n",
            " [0.93675815]\n",
            " [0.92151386]\n",
            " [0.93216203]\n",
            " [0.92590381]\n",
            " [0.92130249]\n",
            " [0.92781517]\n",
            " [0.91644695]\n",
            " [0.92372418]\n",
            " [0.91908174]\n",
            " [0.93221489]\n",
            " [0.92518922]\n",
            " [0.93271881]\n",
            " [0.93041444]\n",
            " [0.92817319]\n",
            " [0.94025984]\n",
            " [0.92838814]\n",
            " [0.92553165]\n",
            " [0.9222466 ]\n",
            " [0.92989434]\n",
            " [0.91205495]\n",
            " [0.90369344]\n",
            " [0.90062323]\n",
            " [0.92449429]\n",
            " [0.90507432]\n",
            " [0.9275323 ]\n",
            " [0.9170532 ]\n",
            " [0.91177736]\n",
            " [0.91342624]\n",
            " [0.92295937]\n",
            " [0.92395642]\n",
            " [0.91547065]\n",
            " [0.92142683]\n",
            " [0.93509722]\n",
            " [0.92043549]\n",
            " [0.92846527]\n",
            " [0.93256509]\n",
            " [0.93246364]\n",
            " [0.9162919 ]\n",
            " [0.91352261]\n",
            " [0.92948949]\n",
            " [0.930004  ]\n",
            " [0.93240574]\n",
            " [0.92602432]\n",
            " [0.9260304 ]\n",
            " [0.91634519]\n",
            " [0.90717818]\n",
            " [0.89542219]\n",
            " [0.93018041]\n",
            " [0.91403434]\n",
            " [0.89963454]\n",
            " [0.92999684]\n",
            " [0.90853879]\n",
            " [0.9284582 ]\n",
            " [0.93113069]\n",
            " [0.92073543]\n",
            " [0.92065853]\n",
            " [0.91535882]\n",
            " [0.91150365]\n",
            " [0.93051968]\n",
            " [0.91880253]\n",
            " [0.92956342]]\n"
          ]
        }
      ]
    }
  ]
}